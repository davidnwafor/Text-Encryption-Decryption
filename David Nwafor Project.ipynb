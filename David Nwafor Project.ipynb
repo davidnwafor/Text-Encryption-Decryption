{
 "cells": [
  {
   "cell_type": "code",
   "execution_count": 13,
   "id": "f277d42e-476f-4131-95d4-b4b647fc7227",
   "metadata": {},
   "outputs": [],
   "source": [
    "# Step 1 - define encrypt function\n",
    "def encrypt(msg,n):\n",
    "    encrypted_msg = \"\" # define encrypted message as an empty string\n",
    "    for char in msg: # for each character in the message taken in\n",
    "        if char.isalpha() == True: # if the character is part of the alphabet\n",
    "            isCap = char.isupper() # boolean for if the current character is capital or not\n",
    "            char = char.lower() # lowercase the current character\n",
    "            charCode = ord(char) # get the unicode of the character\n",
    "            charCode -= n # subtract it from n (shift) - perform caesar cipher\n",
    "            if charCode < ord('a'): # if the unicode less than the unicode of 'a'\n",
    "                charCode += 26 # add 26\n",
    "            char = chr(charCode) # convert the code to a letter\n",
    "            if isCap == True:\n",
    "                char = char.upper() # if the char was uppercase change it back to uppercase\n",
    "        encrypted_msg += char # add the converted letter to the string\n",
    "    return encrypted_msg"
   ]
  },
  {
   "cell_type": "code",
   "execution_count": 35,
   "id": "b72fd35a-86a6-4036-9957-1bdb02396f18",
   "metadata": {},
   "outputs": [
    {
     "name": "stdout",
     "output_type": "stream",
     "text": [
      "QEB NRFZH YOLTK CLU GRJMP LSBO QEB IXWV ALD\n"
     ]
    }
   ],
   "source": [
    "# Step 1 - test encrypt function\n",
    "s = \"THE QUICK BROWN FOX JUMPS OVER THE LAZY DOG\"\n",
    "print(encrypt(s,3))"
   ]
  },
  {
   "cell_type": "code",
   "execution_count": 15,
   "id": "435da7a0-4fe7-4fd8-98e9-767ca330f15f",
   "metadata": {},
   "outputs": [],
   "source": [
    "# Step 2 - define decrypt function\n",
    "def decrypt(encrypted_msg,n):\n",
    "    clear_msg = \"\" # define decrypted message as an empty string\n",
    "    for char in encrypted_msg: # for each character in the message taken in\n",
    "        if char.isalpha() == True: # if the character is part of the alphabet\n",
    "            isCap = char.isupper() # boolean for if the current character is capital or not\n",
    "            char = char.lower() # lowercase the current character\n",
    "            charCode = ord(char) # get the unicode of the character\n",
    "            charCode += n # add to n (shift) - perform caesar cipher\n",
    "            if charCode > ord('z'): # if the unicode greater than the unicode of 'z'\n",
    "                charCode -= 26 # subtract 26\n",
    "            char = chr(charCode) # convert the code to a letter\n",
    "            if isCap == True:\n",
    "                char = char.upper() # if the char was uppercase change it back to uppercase\n",
    "        clear_msg += char # add the converted letter to the string\n",
    "    return clear_msg # note the changes only occured on line: 9 and line: 10,11"
   ]
  },
  {
   "cell_type": "code",
   "execution_count": 16,
   "id": "e24e24fa-9c7d-4cf8-bf77-511db8020402",
   "metadata": {},
   "outputs": [
    {
     "name": "stdout",
     "output_type": "stream",
     "text": [
      "THE QUICK BROWN FOX JUMPS OVER THE LAZY DOG\n"
     ]
    }
   ],
   "source": [
    "# Step 2 - test decrypt function\n",
    "s1 = \"QEB NRFZH YOLTK CLU GRJMP LSBO QEB IXWV ALD\"\n",
    "print(decrypt(s1,3))"
   ]
  },
  {
   "cell_type": "code",
   "execution_count": 29,
   "id": "0254a784-c03f-45e6-b79a-65740d851d5a",
   "metadata": {},
   "outputs": [],
   "source": [
    "# Step 3 - reading & writing to a text file\n",
    "f1 = open(\"clearText.txt\",\"r\") # opens clear text file and reads it\n",
    "lines = f1.readlines() # stores each line in file as a list of strings\n",
    "f2 = open(\"encryptedText.txt\",\"a\") # open encrypted file which is currently empty\n",
    "for line in lines: # for each line in the the list of lines\n",
    "    encrypted_line = encrypt(line.strip(),3) # store the encrypted line using the encrypt function (.strip() gets rid of all the unwanted spaces in the line)\n",
    "    lines = f2.write(encrypted_line + \"\\n\") # write these encrypted lines to the encrypted file\n",
    "    lines # call the write function"
   ]
  },
  {
   "cell_type": "code",
   "execution_count": 55,
   "id": "81db9c02-e459-4b21-8fde-a7b6e11f66fd",
   "metadata": {},
   "outputs": [],
   "source": [
    "# Step 4 - letter frequency analysis\n",
    "def countOccurrences(encryptedText): # takes in encrypted message\n",
    "    alphabet = {} # stores the occurence of each letter as a dictionary\n",
    "    for letter in \"ABCDEFGHIJKLMNOPQRSTUVWXYZ\":\n",
    "        alphabet[letter] = 0 # set every letter to 0 occurences\n",
    "\n",
    "    encryptedText = encryptedText.upper() # ignore case\n",
    "            \n",
    "    for char in encryptedText: # for each character in the text\n",
    "        if char.isalpha(): # if it's a letter\n",
    "            alphabet[char] += 1 # increment the occurnece\n",
    "    \n",
    "    for letter, count in alphabet.items(): # for each letter and its occurence in the alphabt\n",
    "        print(f\"{letter} occurs {count} times in the encrypted text\")"
   ]
  },
  {
   "cell_type": "code",
   "execution_count": 56,
   "id": "d1c5c3e0-c842-4221-a843-1e158eb808ad",
   "metadata": {},
   "outputs": [
    {
     "name": "stdout",
     "output_type": "stream",
     "text": [
      "A occurs 0 times in the encrypted text\n",
      "B occurs 1 times in the encrypted text\n",
      "C occurs 0 times in the encrypted text\n",
      "D occurs 0 times in the encrypted text\n",
      "E occurs 1 times in the encrypted text\n",
      "F occurs 0 times in the encrypted text\n",
      "G occurs 0 times in the encrypted text\n",
      "H occurs 0 times in the encrypted text\n",
      "I occurs 0 times in the encrypted text\n",
      "J occurs 0 times in the encrypted text\n",
      "K occurs 0 times in the encrypted text\n",
      "L occurs 0 times in the encrypted text\n",
      "M occurs 0 times in the encrypted text\n",
      "N occurs 0 times in the encrypted text\n",
      "O occurs 0 times in the encrypted text\n",
      "P occurs 0 times in the encrypted text\n",
      "Q occurs 1 times in the encrypted text\n",
      "R occurs 0 times in the encrypted text\n",
      "S occurs 0 times in the encrypted text\n",
      "T occurs 0 times in the encrypted text\n",
      "U occurs 0 times in the encrypted text\n",
      "V occurs 0 times in the encrypted text\n",
      "W occurs 0 times in the encrypted text\n",
      "X occurs 0 times in the encrypted text\n",
      "Y occurs 0 times in the encrypted text\n",
      "Z occurs 0 times in the encrypted text\n"
     ]
    }
   ],
   "source": [
    "countOccurrences(\"QEB\")"
   ]
  },
  {
   "cell_type": "code",
   "execution_count": null,
   "id": "76d7b4a7-1bd5-484a-8fab-7c9c136cb544",
   "metadata": {},
   "outputs": [],
   "source": []
  }
 ],
 "metadata": {
  "kernelspec": {
   "display_name": "Python 3 (ipykernel)",
   "language": "python",
   "name": "python3"
  },
  "language_info": {
   "codemirror_mode": {
    "name": "ipython",
    "version": 3
   },
   "file_extension": ".py",
   "mimetype": "text/x-python",
   "name": "python",
   "nbconvert_exporter": "python",
   "pygments_lexer": "ipython3",
   "version": "3.11.5"
  }
 },
 "nbformat": 4,
 "nbformat_minor": 5
}
